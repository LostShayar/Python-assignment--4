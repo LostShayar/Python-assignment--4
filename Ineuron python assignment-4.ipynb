{
 "cells": [
  {
   "cell_type": "markdown",
   "id": "b143dd93",
   "metadata": {},
   "source": [
    "#                                 Ineuron python assignment - 4"
   ]
  },
  {
   "cell_type": "markdown",
   "id": "0d289b5c",
   "metadata": {},
   "source": [
    "### Q1.1 Write a Python Program(with class concepts) to find the area of the triangle using the belowformula.\n",
    "### area = (s*(s-a)*(s-b)*(s-c)) ** 0.5\n",
    "### Function to take the length of the sides of triangle from user should be defined in the parent class and function to calculate the area should be defined in subclass."
   ]
  },
  {
   "cell_type": "code",
   "execution_count": 1,
   "id": "d106c886",
   "metadata": {},
   "outputs": [
    {
     "name": "stdout",
     "output_type": "stream",
     "text": [
      "Enter a length of side a:12\n",
      "Enter a length of side b:12\n",
      "Enter a length of side c:16\n",
      "Area of trianle is 71.55417527999327\n"
     ]
    }
   ],
   "source": [
    "class Triangle:\n",
    "    def __init__(self,a,b,c):\n",
    "        self.a=a\n",
    "        self.b=b\n",
    "        self.c=c\n",
    "    def area(self):\n",
    "        s=(self.a+self.b+self.c)/2\n",
    "        area=(s*(s-self.a)*(s-self.b)*(s-self.c))**0.5\n",
    "        return area\n",
    "    \n",
    "a=float(input(\"Enter a length of side a:\"))\n",
    "b=float(input(\"Enter a length of side b:\"))\n",
    "c=float(input(\"Enter a length of side c:\"))\n",
    "tri=Triangle(a,b,c)\n",
    "\n",
    "print(\"Area of trianle is {}\".format(tri.area()))"
   ]
  },
  {
   "cell_type": "markdown",
   "id": "f3782215",
   "metadata": {},
   "source": [
    "### Q1.2 Write a function filter_long_words() that takes a list of words and an integer n and returns the list of words that are longer than n."
   ]
  },
  {
   "cell_type": "code",
   "execution_count": 2,
   "id": "09a9434e",
   "metadata": {},
   "outputs": [],
   "source": [
    "def filter_long_words(list_of_words,n):\n",
    "    l = list()\n",
    "    for i in list_of_words:\n",
    "        if len(i) > n:\n",
    "            l.append(i)\n",
    "    return l\n",
    "n=4\n",
    "words=filter_long_words(['lost','shayar','ineuron','data','science','Artificial'],n=n)"
   ]
  },
  {
   "cell_type": "code",
   "execution_count": 3,
   "id": "40f2bcc4",
   "metadata": {},
   "outputs": [
    {
     "data": {
      "text/plain": [
       "['shayar', 'ineuron', 'science', 'Artificial']"
      ]
     },
     "execution_count": 3,
     "metadata": {},
     "output_type": "execute_result"
    }
   ],
   "source": [
    "words"
   ]
  },
  {
   "cell_type": "markdown",
   "id": "a7ea21ae",
   "metadata": {},
   "source": [
    "### Q2.1 Write a Python program using function concept that maps list of words into a list of integers representing the lengths of the corresponding words.\n",
    "\n",
    "### Hint: If a list [ ab,cde,erty] is passed on to the python function output should come as [2,3,4] Here 2,3 and 4 are the lengths of the words in the list."
   ]
  },
  {
   "cell_type": "code",
   "execution_count": 4,
   "id": "05d3439c",
   "metadata": {},
   "outputs": [],
   "source": [
    "def word_length(words):\n",
    "    return len(words)\n",
    "l= ['ab','cde','erty','Ineuron','Machine learning','Deep learning']\n",
    "x=map_func=(map(word_length,l))         #storing map function in a variable called 'x'"
   ]
  },
  {
   "cell_type": "code",
   "execution_count": 5,
   "id": "90c853a4",
   "metadata": {},
   "outputs": [
    {
     "data": {
      "text/plain": [
       "[2, 3, 4, 7, 16, 13]"
      ]
     },
     "execution_count": 5,
     "metadata": {},
     "output_type": "execute_result"
    }
   ],
   "source": [
    "list(x)                       #length of each words present in above list"
   ]
  },
  {
   "cell_type": "markdown",
   "id": "f30390bb",
   "metadata": {},
   "source": [
    "### Q2.2 Write a Python function which takes a character (i.e. a string of length 1) and returns True if it is a vowel, False otherwise."
   ]
  },
  {
   "cell_type": "code",
   "execution_count": 6,
   "id": "cdadc559",
   "metadata": {},
   "outputs": [],
   "source": [
    "def char(word):\n",
    "    vowel=['a','e','i','o','u']\n",
    "    if word in vowel:\n",
    "        return True\n",
    "    else:\n",
    "        return False"
   ]
  },
  {
   "cell_type": "code",
   "execution_count": 7,
   "id": "bec46709",
   "metadata": {},
   "outputs": [
    {
     "data": {
      "text/plain": [
       "True"
      ]
     },
     "execution_count": 7,
     "metadata": {},
     "output_type": "execute_result"
    }
   ],
   "source": [
    "char('a')"
   ]
  },
  {
   "cell_type": "code",
   "execution_count": 8,
   "id": "8022ae3a",
   "metadata": {},
   "outputs": [
    {
     "data": {
      "text/plain": [
       "False"
      ]
     },
     "execution_count": 8,
     "metadata": {},
     "output_type": "execute_result"
    }
   ],
   "source": [
    "char('v')"
   ]
  },
  {
   "cell_type": "code",
   "execution_count": 9,
   "id": "829ee17f",
   "metadata": {},
   "outputs": [
    {
     "data": {
      "text/plain": [
       "True"
      ]
     },
     "execution_count": 9,
     "metadata": {},
     "output_type": "execute_result"
    }
   ],
   "source": [
    "char('e')"
   ]
  },
  {
   "cell_type": "code",
   "execution_count": 10,
   "id": "5d9a9004",
   "metadata": {},
   "outputs": [
    {
     "data": {
      "text/plain": [
       "False"
      ]
     },
     "execution_count": 10,
     "metadata": {},
     "output_type": "execute_result"
    }
   ],
   "source": [
    "char('s')"
   ]
  },
  {
   "cell_type": "code",
   "execution_count": null,
   "id": "25f6d525",
   "metadata": {},
   "outputs": [],
   "source": []
  }
 ],
 "metadata": {
  "kernelspec": {
   "display_name": "Python 3",
   "language": "python",
   "name": "python3"
  },
  "language_info": {
   "codemirror_mode": {
    "name": "ipython",
    "version": 3
   },
   "file_extension": ".py",
   "mimetype": "text/x-python",
   "name": "python",
   "nbconvert_exporter": "python",
   "pygments_lexer": "ipython3",
   "version": "3.8.8"
  }
 },
 "nbformat": 4,
 "nbformat_minor": 5
}
